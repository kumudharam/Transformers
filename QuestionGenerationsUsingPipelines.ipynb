{
  "nbformat": 4,
  "nbformat_minor": 0,
  "metadata": {
    "colab": {
      "name": "Quiz.ipynb",
      "provenance": [],
      "collapsed_sections": [],
      "toc_visible": true,
      "include_colab_link": true
    },
    "kernelspec": {
      "name": "python3",
      "display_name": "Python 3"
    },
    "accelerator": "GPU"
  },
  "cells": [
    {
      "cell_type": "markdown",
      "metadata": {
        "id": "view-in-github",
        "colab_type": "text"
      },
      "source": [
        "<a href=\"https://colab.research.google.com/github/kumudharam/Transformers/blob/main/QuestionGenerationsUsingPipelines.ipynb\" target=\"_parent\"><img src=\"https://colab.research.google.com/assets/colab-badge.svg\" alt=\"Open In Colab\"/></a>"
      ]
    },
    {
      "cell_type": "markdown",
      "metadata": {
        "id": "6o1tG5su4Jtm"
      },
      "source": [
        "# Install Modules"
      ]
    },
    {
      "cell_type": "code",
      "metadata": {
        "id": "GT2wJL8OhqCd",
        "colab": {
          "base_uri": "https://localhost:8080/"
        },
        "outputId": "6d1c7b86-d188-4171-e5b0-32beeaa8e299"
      },
      "source": [
        "!pip install wikipedia --quiet\n",
        "!pip install -U transformers==3.0.0 --quiet\n",
        "!python -m nltk.downloader punkt\n",
        "\n",
        "!git clone https://github.com/patil-suraj/question_generation.git\n",
        "%cd question_generation\n",
        "\n",
        "from pipelines import pipeline\n",
        "nlp = pipeline(\"question-generation\")"
      ],
      "execution_count": null,
      "outputs": [
        {
          "output_type": "stream",
          "text": [
            "  Building wheel for wikipedia (setup.py) ... \u001b[?25l\u001b[?25hdone\n",
            "\u001b[K     |████████████████████████████████| 754 kB 32.1 MB/s \n",
            "\u001b[K     |████████████████████████████████| 3.0 MB 57.4 MB/s \n",
            "\u001b[K     |████████████████████████████████| 895 kB 51.0 MB/s \n",
            "\u001b[K     |████████████████████████████████| 1.2 MB 44.2 MB/s \n",
            "\u001b[?25h/usr/lib/python3.7/runpy.py:125: RuntimeWarning: 'nltk.downloader' found in sys.modules after import of package 'nltk', but prior to execution of 'nltk.downloader'; this may result in unpredictable behaviour\n",
            "  warn(RuntimeWarning(msg))\n",
            "[nltk_data] Downloading package punkt to /root/nltk_data...\n",
            "[nltk_data]   Unzipping tokenizers/punkt.zip.\n",
            "Cloning into 'question_generation'...\n",
            "remote: Enumerating objects: 265, done.\u001b[K\n",
            "remote: Counting objects: 100% (109/109), done.\u001b[K\n",
            "remote: Compressing objects: 100% (14/14), done.\u001b[K\n",
            "remote: Total 265 (delta 100), reused 95 (delta 95), pack-reused 156\u001b[K\n",
            "Receiving objects: 100% (265/265), 289.06 KiB | 17.00 MiB/s, done.\n",
            "Resolving deltas: 100% (146/146), done.\n",
            "/content/question_generation\n"
          ],
          "name": "stdout"
        }
      ]
    },
    {
      "cell_type": "markdown",
      "metadata": {
        "id": "pvy9n5Z14bfk"
      },
      "source": [
        "# Import the required packages"
      ]
    },
    {
      "cell_type": "code",
      "metadata": {
        "id": "s_L4tbxMuc5Z"
      },
      "source": [
        "import wikipedia"
      ],
      "execution_count": null,
      "outputs": []
    },
    {
      "cell_type": "markdown",
      "metadata": {
        "id": "BEQbT_zikDYR"
      },
      "source": [
        "# Feed in the topic of your choice in the variable below\n"
      ]
    },
    {
      "cell_type": "code",
      "metadata": {
        "id": "3ONqBni3CLN-",
        "colab": {
          "base_uri": "https://localhost:8080/",
          "height": 187
        },
        "outputId": "1b7bc085-8943-41ef-9421-092b6f8e7f16"
      },
      "source": [
        "topic = \"Cricket\"\n",
        "wikipedia.search(topic)"
      ],
      "execution_count": null,
      "outputs": [
        {
          "output_type": "execute_result",
          "data": {
            "text/plain": [
              "['Cricket',\n",
              " 'India national cricket team',\n",
              " 'Glossary of cricket terms',\n",
              " 'Cricket 19',\n",
              " 'Mormon cricket',\n",
              " 'West Indies cricket team',\n",
              " 'Cricket World Cup',\n",
              " 'Mole cricket',\n",
              " 'Duck (cricket)',\n",
              " 'International Cricket Council']"
            ]
          },
          "metadata": {
            "tags": []
          },
          "execution_count": 5
        }
      ]
    },
    {
      "cell_type": "markdown",
      "metadata": {
        "id": "4n5ispHjkH04"
      },
      "source": [
        "## Select one of the topics from the list above and paste it the cell below as topic"
      ]
    },
    {
      "cell_type": "code",
      "metadata": {
        "id": "CH42ePA5NIFG"
      },
      "source": [
        "topic = \"Cricket World Cup\"\n",
        "summary = wikipedia.summary(topic)\n",
        "summary = summary.replace(\"\\n\", \"\")\n",
        "\n",
        "json_result = nlp(summary)\n",
        "\n",
        "def filter_length_answers(json_result):\n",
        "    result = []\n",
        "    for qa_pair in json_result:\n",
        "        lenght_of_answer = len(qa_pair[\"answer\"]) \n",
        "        if(lenght_of_answer> 30):\n",
        "            continue\n",
        "        result.append(qa_pair)\n",
        "    return result\n",
        "\n",
        "json_result = filter_length_answers(json_result)\n"
      ],
      "execution_count": null,
      "outputs": []
    },
    {
      "cell_type": "code",
      "metadata": {
        "id": "JGLaJAb1ujSm"
      },
      "source": [
        "for idx, qa_pair in enumerate(json_result):\n",
        "    print(\"Question \"+ str(idx + 1) + \":\")\n",
        "    print(qa_pair[\"question\"] + \"\\n\")\n",
        "    print(\"Press Enter to see the answer\\n\")\n",
        "    input()\n",
        "    print(\"Answer: \" + qa_pair[\"answer\"] + \"\\n\")\n",
        "    print(\"---------------------------\")\n",
        "\n"
      ],
      "execution_count": null,
      "outputs": []
    },
    {
      "cell_type": "code",
      "metadata": {
        "id": "x2zMfcgXvj1I",
        "colab": {
          "base_uri": "https://localhost:8080/",
          "height": 187
        },
        "outputId": "4839156a-3827-4d60-d645-86b1c82a7aad"
      },
      "source": [
        "topic = \"Marvel\"\n",
        "wikipedia.search(topic)"
      ],
      "execution_count": null,
      "outputs": [
        {
          "output_type": "execute_result",
          "data": {
            "text/plain": [
              "['Marvel',\n",
              " 'Marvel Comics',\n",
              " 'Marvel Cinematic Universe',\n",
              " 'Captain Marvel (Marvel Comics)',\n",
              " 'Marvel Studios',\n",
              " 'Marvel Entertainment',\n",
              " 'List of Marvel Cinematic Universe films',\n",
              " 'Marvel Cinematic Universe: Phase Four',\n",
              " 'Marvel Cinematic Universe: Phase Three',\n",
              " 'Elizabeth Marvel']"
            ]
          },
          "metadata": {
            "tags": []
          },
          "execution_count": 12
        }
      ]
    },
    {
      "cell_type": "code",
      "metadata": {
        "id": "Umtmr89cvDOT"
      },
      "source": [
        "topic = \"Marvel Comic\"\n",
        "summary = wikipedia.summary(topic)\n",
        "summary = summary.replace(\"\\n\", \"\")\n",
        "\n",
        "json_result = nlp(summary)\n",
        "\n",
        "def filter_length_answers(json_result):\n",
        "    result = []\n",
        "    for qa_pair in json_result:\n",
        "        lenght_of_answer = len(qa_pair[\"answer\"]) \n",
        "        if(lenght_of_answer> 30):\n",
        "            continue\n",
        "        result.append(qa_pair)\n",
        "    return result\n",
        "\n",
        "json_result = filter_length_answers(json_result)\n"
      ],
      "execution_count": null,
      "outputs": []
    },
    {
      "cell_type": "code",
      "metadata": {
        "id": "FEKDpPiROUWq"
      },
      "source": [
        "for idx, qa_pair in enumerate(json_result):\n",
        "    print(\"Question \"+ str(idx + 1) + \":\")\n",
        "    print(qa_pair[\"question\"] + \"\\n\")\n",
        "    print(\"Press Enter to see the answer\\n\")\n",
        "    input()\n",
        "    print(\"Answer: \" + qa_pair[\"answer\"] + \"\\n\")\n",
        "    print(\"---------------------------\")\n",
        "\n"
      ],
      "execution_count": null,
      "outputs": []
    },
    {
      "cell_type": "code",
      "metadata": {
        "id": "9ocQNNPFhuRE"
      },
      "source": [
        ""
      ],
      "execution_count": null,
      "outputs": []
    }
  ]
}