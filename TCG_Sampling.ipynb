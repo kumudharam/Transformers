{
  "nbformat": 4,
  "nbformat_minor": 0,
  "metadata": {
    "colab": {
      "name": "TCG_Sampling.ipynb",
      "provenance": [],
      "authorship_tag": "ABX9TyP0H7zXRkBmHNfd8F3yp4b1",
      "include_colab_link": true
    },
    "kernelspec": {
      "name": "python3",
      "display_name": "Python 3"
    },
    "language_info": {
      "name": "python"
    }
  },
  "cells": [
    {
      "cell_type": "markdown",
      "metadata": {
        "id": "view-in-github",
        "colab_type": "text"
      },
      "source": [
        "<a href=\"https://colab.research.google.com/github/kumudharam/Transformers/blob/main/TCG_Sampling.ipynb\" target=\"_parent\"><img src=\"https://colab.research.google.com/assets/colab-badge.svg\" alt=\"Open In Colab\"/></a>"
      ]
    },
    {
      "cell_type": "code",
      "metadata": {
        "colab": {
          "base_uri": "https://localhost:8080/"
        },
        "id": "TCJI8vY32nXT",
        "outputId": "dcb8948c-db80-4c59-87f4-a88c4731996e"
      },
      "source": [
        "!pip install transformers\n",
        "!pip install timeline \n",
        "!pip install pipeline\n",
        "!pip install pipelines \n",
        "!pip install openpyxl \n",
        "!pip install xlrd\n",
        "!pip install xlsxwriter "
      ],
      "execution_count": null,
      "outputs": [
        {
          "output_type": "stream",
          "name": "stdout",
          "text": [
            "Collecting transformers\n",
            "  Downloading transformers-4.12.5-py3-none-any.whl (3.1 MB)\n",
            "\u001b[K     |████████████████████████████████| 3.1 MB 29.7 MB/s \n",
            "\u001b[?25hRequirement already satisfied: importlib-metadata in /usr/local/lib/python3.7/dist-packages (from transformers) (4.8.2)\n",
            "Collecting huggingface-hub<1.0,>=0.1.0\n",
            "  Downloading huggingface_hub-0.1.2-py3-none-any.whl (59 kB)\n",
            "\u001b[K     |████████████████████████████████| 59 kB 5.8 MB/s \n",
            "\u001b[?25hRequirement already satisfied: packaging>=20.0 in /usr/local/lib/python3.7/dist-packages (from transformers) (21.3)\n",
            "Collecting tokenizers<0.11,>=0.10.1\n",
            "  Downloading tokenizers-0.10.3-cp37-cp37m-manylinux_2_5_x86_64.manylinux1_x86_64.manylinux_2_12_x86_64.manylinux2010_x86_64.whl (3.3 MB)\n",
            "\u001b[K     |████████████████████████████████| 3.3 MB 47.7 MB/s \n",
            "\u001b[?25hRequirement already satisfied: filelock in /usr/local/lib/python3.7/dist-packages (from transformers) (3.4.0)\n",
            "Requirement already satisfied: numpy>=1.17 in /usr/local/lib/python3.7/dist-packages (from transformers) (1.19.5)\n",
            "Requirement already satisfied: requests in /usr/local/lib/python3.7/dist-packages (from transformers) (2.23.0)\n",
            "Collecting sacremoses\n",
            "  Downloading sacremoses-0.0.46-py3-none-any.whl (895 kB)\n",
            "\u001b[K     |████████████████████████████████| 895 kB 38.5 MB/s \n",
            "\u001b[?25hRequirement already satisfied: tqdm>=4.27 in /usr/local/lib/python3.7/dist-packages (from transformers) (4.62.3)\n",
            "Requirement already satisfied: regex!=2019.12.17 in /usr/local/lib/python3.7/dist-packages (from transformers) (2019.12.20)\n",
            "Collecting pyyaml>=5.1\n",
            "  Downloading PyYAML-6.0-cp37-cp37m-manylinux_2_5_x86_64.manylinux1_x86_64.manylinux_2_12_x86_64.manylinux2010_x86_64.whl (596 kB)\n",
            "\u001b[K     |████████████████████████████████| 596 kB 44.7 MB/s \n",
            "\u001b[?25hRequirement already satisfied: typing-extensions>=3.7.4.3 in /usr/local/lib/python3.7/dist-packages (from huggingface-hub<1.0,>=0.1.0->transformers) (3.10.0.2)\n",
            "Requirement already satisfied: pyparsing!=3.0.5,>=2.0.2 in /usr/local/lib/python3.7/dist-packages (from packaging>=20.0->transformers) (3.0.6)\n",
            "Requirement already satisfied: zipp>=0.5 in /usr/local/lib/python3.7/dist-packages (from importlib-metadata->transformers) (3.6.0)\n",
            "Requirement already satisfied: urllib3!=1.25.0,!=1.25.1,<1.26,>=1.21.1 in /usr/local/lib/python3.7/dist-packages (from requests->transformers) (1.24.3)\n",
            "Requirement already satisfied: chardet<4,>=3.0.2 in /usr/local/lib/python3.7/dist-packages (from requests->transformers) (3.0.4)\n",
            "Requirement already satisfied: idna<3,>=2.5 in /usr/local/lib/python3.7/dist-packages (from requests->transformers) (2.10)\n",
            "Requirement already satisfied: certifi>=2017.4.17 in /usr/local/lib/python3.7/dist-packages (from requests->transformers) (2021.10.8)\n",
            "Requirement already satisfied: six in /usr/local/lib/python3.7/dist-packages (from sacremoses->transformers) (1.15.0)\n",
            "Requirement already satisfied: click in /usr/local/lib/python3.7/dist-packages (from sacremoses->transformers) (7.1.2)\n",
            "Requirement already satisfied: joblib in /usr/local/lib/python3.7/dist-packages (from sacremoses->transformers) (1.1.0)\n",
            "Installing collected packages: pyyaml, tokenizers, sacremoses, huggingface-hub, transformers\n",
            "  Attempting uninstall: pyyaml\n",
            "    Found existing installation: PyYAML 3.13\n",
            "    Uninstalling PyYAML-3.13:\n",
            "      Successfully uninstalled PyYAML-3.13\n",
            "Successfully installed huggingface-hub-0.1.2 pyyaml-6.0 sacremoses-0.0.46 tokenizers-0.10.3 transformers-4.12.5\n",
            "Collecting timeline\n",
            "  Downloading timeline-0.0.7.tar.gz (11 kB)\n",
            "Requirement already satisfied: pytz in /usr/local/lib/python3.7/dist-packages (from timeline) (2018.9)\n",
            "Building wheels for collected packages: timeline\n",
            "  Building wheel for timeline (setup.py) ... \u001b[?25l\u001b[?25hdone\n",
            "  Created wheel for timeline: filename=timeline-0.0.7-py3-none-any.whl size=17005 sha256=da1d56bd0c5da88d82b7671c9b8c78b396707d0442f9afe4dc95788e3d96b582\n",
            "  Stored in directory: /root/.cache/pip/wheels/eb/03/7d/af6f2e055c7a95e6e9dcd5e64a9738678cac6bd8b05d4e1bd3\n",
            "Successfully built timeline\n",
            "Installing collected packages: timeline\n",
            "Successfully installed timeline-0.0.7\n",
            "Collecting pipeline\n",
            "  Downloading pipeline-0.1.0-py3-none-any.whl (2.6 kB)\n",
            "Installing collected packages: pipeline\n",
            "Successfully installed pipeline-0.1.0\n",
            "Collecting pipelines\n",
            "  Downloading pipelines-0.0.14.tar.gz (161 kB)\n",
            "\u001b[K     |████████████████████████████████| 161 kB 20.3 MB/s \n",
            "\u001b[?25hCollecting futures==3.0.5\n",
            "  Downloading futures-3.0.5.tar.gz (25 kB)\n",
            "\u001b[33mWARNING: Discarding https://files.pythonhosted.org/packages/55/db/97c1ca37edab586a1ae03d6892b6633d8eaa23b23ac40c7e5bbc55423c78/futures-3.0.5.tar.gz#sha256=0542525145d5afc984c88f914a0c85c77527f65946617edb5274f72406f981df (from https://pypi.org/simple/futures/). Command errored out with exit status 1: python setup.py egg_info Check the logs for full command output.\u001b[0m\n",
            "Collecting pipelines\n",
            "  Downloading pipelines-0.0.12.tar.gz (161 kB)\n",
            "\u001b[K     |████████████████████████████████| 161 kB 39.0 MB/s \n",
            "\u001b[?25h  Downloading pipelines-0.0.11.tar.gz (161 kB)\n",
            "\u001b[K     |████████████████████████████████| 161 kB 60.3 MB/s \n",
            "\u001b[?25h  Downloading pipelines-0.0.10.tar.gz (159 kB)\n",
            "\u001b[K     |████████████████████████████████| 159 kB 45.1 MB/s \n",
            "\u001b[?25h  Downloading pipelines-0.0.9.tar.gz (159 kB)\n",
            "\u001b[K     |████████████████████████████████| 159 kB 52.0 MB/s \n",
            "\u001b[?25h  Downloading pipelines-0.0.4.tar.gz (10 kB)\n",
            "  Downloading pipelines-0.0.3.tar.gz (9.6 kB)\n",
            "  Downloading pipelines-0.0.1.tar.gz (8.7 kB)\n",
            "Building wheels for collected packages: pipelines\n",
            "  Building wheel for pipelines (setup.py) ... \u001b[?25l\u001b[?25hdone\n",
            "  Created wheel for pipelines: filename=pipelines-0.0.1-py3-none-any.whl size=15784 sha256=48abccc45b4a9849941b1e2ae7eb44408343ceaefca41c34b0a0c6eea8e190d4\n",
            "  Stored in directory: /root/.cache/pip/wheels/c0/8a/50/564066c923abb3bfbafe1cde0d19607085ab4c66f572c1b169\n",
            "Successfully built pipelines\n",
            "Installing collected packages: pipelines\n",
            "Successfully installed pipelines-0.0.1\n",
            "Requirement already satisfied: openpyxl in /usr/local/lib/python3.7/dist-packages (2.5.9)\n",
            "Requirement already satisfied: jdcal in /usr/local/lib/python3.7/dist-packages (from openpyxl) (1.4.1)\n",
            "Requirement already satisfied: et-xmlfile in /usr/local/lib/python3.7/dist-packages (from openpyxl) (1.1.0)\n",
            "Requirement already satisfied: xlrd in /usr/local/lib/python3.7/dist-packages (1.1.0)\n",
            "Collecting xlsxwriter\n",
            "  Downloading XlsxWriter-3.0.2-py3-none-any.whl (149 kB)\n",
            "\u001b[K     |████████████████████████████████| 149 kB 32.7 MB/s \n",
            "\u001b[?25hInstalling collected packages: xlsxwriter\n",
            "Successfully installed xlsxwriter-3.0.2\n"
          ]
        }
      ]
    },
    {
      "cell_type": "code",
      "metadata": {
        "colab": {
          "base_uri": "https://localhost:8080/"
        },
        "id": "aNIQYzoh2oeN",
        "outputId": "ffa7ee54-02a8-4e7c-ec17-9a28d645512f"
      },
      "source": [
        "!pip install -U transformers==3.0.0 --quiet\n",
        "!python -m nltk.downloader punkt\n",
        "\n",
        "!git clone https://github.com/patil-suraj/question_generation.git\n",
        "%cd question_generation\n",
        "import nltk\n",
        "nltk.download('stopwords')\n",
        "from nltk.corpus import stopwords\n",
        "from nltk.tokenize import word_tokenize\n",
        "from nltk import word_tokenize, sent_tokenize\n",
        "from keras.preprocessing.text import Tokenizer\n",
        "\n",
        "#from transformers import pipeline\n",
        "import timeline\n",
        "import pandas as pd\n",
        "import csv \n",
        "import openpyxl\n",
        "import xlsxwriter\n",
        "from itertools import chain \n",
        "\n",
        "from gensim.summarization.summarizer import summarize\n",
        "from gensim.summarization import keywords\n",
        "#text1 = \"WHEN I select Industrialization =Reprog and I fill in some of the fields associated to a Reprog Compatibility Critera. AND I change my selection for the Industrialization field from Reprog to Config.\"\n",
        "#doc = \"\"\"\n",
        "         #Supervised learning is the machine learning task of learning a function that\n",
        "         #maps an input to an output based on example input-output pairs. It infers a\n",
        "         #function from labeled training data consisting of a set of training examples.\n",
        "         #In supervised learning, each example is a pair consisting of an input object\n",
        "         #(typically a vector) and a desired output value (also called the supervisory signal). \n",
        "         #A supervised learning algorithm analyzes the training data and produces an inferred function, \n",
        "         #which can be used for mapping new examples. An optimal scenario will allow for the \n",
        "         #algorithm to correctly determine the class labels for unseen instances. This requires \n",
        "         #the learning algorithm to generalize from the training data to unseen situations in a \n",
        "         #'reasonable' way (see inductive bias).\n",
        "      #\"\"\"\n",
        "\n",
        "df1 = pd.read_csv(r'/content/TestScenario10.csv', error_bad_lines=False)\n",
        "df = pd.DataFrame(df1, columns =['AccpCriteria'])\n",
        "Stringval = []\n",
        "for column in reversed(df.columns):\n",
        "    columnSeriesObj = df[column]\n",
        "    print('Column Name : ', column)\n",
        "    print('Column Contents : ', columnSeriesObj.values)\n",
        "    Stringval = str(columnSeriesObj.values)\n",
        "    #Stringval = columnSeriesObj.values\n",
        "    len_Val = len(columnSeriesObj.values)\n",
        "    print(Stringval)\n",
        "    for i in range(len_Val):\n",
        "      print(\"The value of column: \"+columnSeriesObj.values[i])\n",
        "      ColVal = str(columnSeriesObj.values[i])      \n",
        "print(summarize(Stringval, split=True, ratio=0.5, word_count=15))\n",
        "print(summarize(Stringval, split=True, ratio=0.5))\n",
        "print(keywords(Stringval, words=5, lemmatize=True))\n",
        "\n"
      ],
      "execution_count": null,
      "outputs": [
        {
          "output_type": "stream",
          "name": "stdout",
          "text": [
            "/usr/lib/python3.7/runpy.py:125: RuntimeWarning: 'nltk.downloader' found in sys.modules after import of package 'nltk', but prior to execution of 'nltk.downloader'; this may result in unpredictable behaviour\n",
            "  warn(RuntimeWarning(msg))\n",
            "[nltk_data] Downloading package punkt to /root/nltk_data...\n",
            "[nltk_data]   Package punkt is already up-to-date!\n",
            "Cloning into 'question_generation'...\n",
            "remote: Enumerating objects: 265, done.\u001b[K\n",
            "remote: Counting objects: 100% (109/109), done.\u001b[K\n",
            "remote: Compressing objects: 100% (14/14), done.\u001b[K\n",
            "remote: Total 265 (delta 100), reused 95 (delta 95), pack-reused 156\u001b[K\n",
            "Receiving objects: 100% (265/265), 289.06 KiB | 17.00 MiB/s, done.\n",
            "Resolving deltas: 100% (146/146), done.\n",
            "/content/question_generation/question_generation\n",
            "[nltk_data] Downloading package stopwords to /root/nltk_data...\n",
            "[nltk_data]   Package stopwords is already up-to-date!\n",
            "Column Name :  AccpCriteria\n",
            "Column Contents :  ['GIVEN THAT I click on Data > Manage Data > TimePWT_Compatibility Criteria > Submit.'\n",
            " 'WHEN I select \"Industrialization\" = \"Reprog\" and I fill in some of the fields associated to a \"Reprog\" Compatibility Critera.'\n",
            " 'AND I change my selection for the \"Industrialization\" field from \"Reprog\" to \"Config\".'\n",
            " 'THEN all the fields filled in previously must be cleared.']\n",
            "['GIVEN THAT I click on Data > Manage Data > TimePWT_Compatibility Criteria > Submit.'\n",
            " 'WHEN I select \"Industrialization\" = \"Reprog\" and I fill in some of the fields associated to a \"Reprog\" Compatibility Critera.'\n",
            " 'AND I change my selection for the \"Industrialization\" field from \"Reprog\" to \"Config\".'\n",
            " 'THEN all the fields filled in previously must be cleared.']\n",
            "The value of column: GIVEN THAT I click on Data > Manage Data > TimePWT_Compatibility Criteria > Submit.\n",
            "The value of column: WHEN I select \"Industrialization\" = \"Reprog\" and I fill in some of the fields associated to a \"Reprog\" Compatibility Critera.\n",
            "The value of column: AND I change my selection for the \"Industrialization\" field from \"Reprog\" to \"Config\".\n",
            "The value of column: THEN all the fields filled in previously must be cleared.\n",
            "[\"'THEN all the fields filled in previously must be cleared.']\"]\n",
            "['\\'AND I change my selection for the \"Industrialization\" field from \"Reprog\" to \"Config\".\\'', \"'THEN all the fields filled in previously must be cleared.']\"]\n",
            "field\n",
            "industrialization\n",
            "data\n",
            "criteria\n",
            "timepwt_compatibility\n"
          ]
        }
      ]
    },
    {
      "cell_type": "code",
      "metadata": {
        "id": "qB6OziYrkjAi",
        "colab": {
          "base_uri": "https://localhost:8080/"
        },
        "outputId": "cad311d1-a571-4687-b518-b2f2104c32e1"
      },
      "source": [
        "!pip install --quiet transformers==4.1.1\n",
        "!pip install --quiet pytorch-lightning==1.1.1\n",
        "!pip install --quiet tokenizers==0.9.4\n",
        "!pip install --quiet sentencepiece==0.1.94"
      ],
      "execution_count": null,
      "outputs": [
        {
          "output_type": "stream",
          "name": "stdout",
          "text": [
            "\u001b[K     |████████████████████████████████| 1.5 MB 30.5 MB/s \n",
            "\u001b[K     |████████████████████████████████| 2.9 MB 56.8 MB/s \n",
            "\u001b[K     |████████████████████████████████| 669 kB 31.6 MB/s \n",
            "\u001b[K     |████████████████████████████████| 132 kB 32.1 MB/s \n",
            "\u001b[K     |████████████████████████████████| 829 kB 51.0 MB/s \n",
            "\u001b[?25h  Building wheel for future (setup.py) ... \u001b[?25l\u001b[?25hdone\n",
            "\u001b[K     |████████████████████████████████| 1.1 MB 29.7 MB/s \n",
            "\u001b[?25h"
          ]
        }
      ]
    },
    {
      "cell_type": "code",
      "metadata": {
        "id": "Ej3sPgUDlP2e"
      },
      "source": [
        ""
      ],
      "execution_count": null,
      "outputs": []
    }
  ]
}