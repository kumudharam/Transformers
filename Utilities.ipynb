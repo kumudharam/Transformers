{
  "nbformat": 4,
  "nbformat_minor": 0,
  "metadata": {
    "colab": {
      "name": "Utilities.ipynb",
      "provenance": [],
      "authorship_tag": "ABX9TyMwx+C7+uNPka2WNQCl0kkt",
      "include_colab_link": true
    },
    "kernelspec": {
      "name": "python3",
      "display_name": "Python 3"
    },
    "language_info": {
      "name": "python"
    }
  },
  "cells": [
    {
      "cell_type": "markdown",
      "metadata": {
        "id": "view-in-github",
        "colab_type": "text"
      },
      "source": [
        "<a href=\"https://colab.research.google.com/github/kumudharam/Transformers/blob/main/Utilities.ipynb\" target=\"_parent\"><img src=\"https://colab.research.google.com/assets/colab-badge.svg\" alt=\"Open In Colab\"/></a>"
      ]
    },
    {
      "cell_type": "code",
      "metadata": {
        "id": "JNdhWef8GyK5"
      },
      "source": [
        "# importing openpyxl module\n",
        "import openpyxl\n",
        " \n",
        "# Give the location of the file\n",
        "path = \"/content/TestData.xlsx\"\n",
        "def readexcel \n",
        "# workbook object is created\n",
        "wb_obj = openpyxl.load_workbook(path)\n",
        " \n",
        "sheet_obj = wb_obj.active\n",
        "max_col = sheet_obj.max_column\n",
        "max_row = sheet_obj.max_row \n",
        "# Loop will print all columns name\n",
        "for i in range(1, max_col + 1):\n",
        "    cell_obj = sheet_obj.cell(row = 1, column = i)\n",
        "     #print(cell_obj.value) \n",
        "for j in range(1, max_row + 1):\n",
        "     cell_obj2 = sheet_obj.cell(row = j, column = 1)    \n",
        "     print(cell_obj2.value) "
      ],
      "execution_count": null,
      "outputs": []
    }
  ]
}