{
  "nbformat": 4,
  "nbformat_minor": 0,
  "metadata": {
    "colab": {
      "name": "Pipeline_QuestionAnswering.ipynb",
      "provenance": [],
      "authorship_tag": "ABX9TyOJrYLz6PJx93O6jXTBJGeg",
      "include_colab_link": true
    },
    "kernelspec": {
      "name": "python3",
      "display_name": "Python 3"
    },
    "language_info": {
      "name": "python"
    }
  },
  "cells": [
    {
      "cell_type": "markdown",
      "metadata": {
        "id": "view-in-github",
        "colab_type": "text"
      },
      "source": [
        "<a href=\"https://colab.research.google.com/github/kumudharam/Transformers/blob/main/Pipeline_QuestionAnswering.ipynb\" target=\"_parent\"><img src=\"https://colab.research.google.com/assets/colab-badge.svg\" alt=\"Open In Colab\"/></a>"
      ]
    },
    {
      "cell_type": "code",
      "metadata": {
        "id": "O4nY7EuqZbMf"
      },
      "source": [
        "!pip install transformers"
      ],
      "execution_count": null,
      "outputs": []
    },
    {
      "cell_type": "code",
      "metadata": {
        "id": "3rujVSRYZc1Z"
      },
      "source": [
        "from transformers import pipeline\n",
        "\n",
        "nlp = pipeline(\"question-answering\")\n",
        "\n",
        "context = r\"\"\"\n",
        "As an adminstrator i want to check the availability of the button. the Button colour should be in Red Colour. The size of the button is 10px. The button is placed in center of the main menu.\n",
        "\"\"\"\n",
        "\n",
        "print(nlp(question=\"What is size of the button?\", context=context))\n",
        "print(nlp(question=\"Where is the button placed?\", context=context))\n",
        "print(nlp(question=\"What is colour of the button?\", context=context))\n",
        "print(nlp(question=\"Who is checking the button?\", context=context))"
      ],
      "execution_count": null,
      "outputs": []
    }
  ]
}