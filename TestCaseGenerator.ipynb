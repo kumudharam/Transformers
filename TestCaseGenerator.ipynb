{
  "nbformat": 4,
  "nbformat_minor": 0,
  "metadata": {
    "colab": {
      "name": "TestCaseGenerator.ipynb",
      "provenance": [],
      "authorship_tag": "ABX9TyNxD1AvU/JeEncDJj4lEXvi",
      "include_colab_link": true
    },
    "kernelspec": {
      "name": "python3",
      "display_name": "Python 3"
    },
    "language_info": {
      "name": "python"
    }
  },
  "cells": [
    {
      "cell_type": "markdown",
      "metadata": {
        "id": "view-in-github",
        "colab_type": "text"
      },
      "source": [
        "<a href=\"https://colab.research.google.com/github/kumudharam/Transformers/blob/main/TestCaseGenerator.ipynb\" target=\"_parent\"><img src=\"https://colab.research.google.com/assets/colab-badge.svg\" alt=\"Open In Colab\"/></a>"
      ]
    },
    {
      "cell_type": "code",
      "metadata": {
        "id": "zrYxr2jgdYFt"
      },
      "source": [
        ""
      ],
      "execution_count": null,
      "outputs": []
    },
    {
      "cell_type": "code",
      "metadata": {
        "id": "83PN8J8xdaCt"
      },
      "source": [
        "!pip install transformers\n",
        "!pip install timeline \n",
        "!pip install pipeline\n",
        "!pip install pipelines "
      ],
      "execution_count": null,
      "outputs": []
    },
    {
      "cell_type": "code",
      "metadata": {
        "colab": {
          "base_uri": "https://localhost:8080/"
        },
        "id": "DFRc67MbLsH7",
        "outputId": "71b3a529-82c0-4854-8233-e61976e1dfbe"
      },
      "source": [
        "\n",
        "!pip install -U transformers==3.0.0 --quiet\n",
        "!python -m nltk.downloader punkt\n",
        "\n",
        "!git clone https://github.com/patil-suraj/question_generation.git\n",
        "%cd question_generation\n",
        "import nltk\n",
        "nltk.download('stopwords')\n",
        "from nltk.corpus import stopwords\n",
        "from nltk.tokenize import word_tokenize\n",
        "\n",
        "from transformers import pipeline\n",
        "\n",
        "\n",
        "text3 = r'''\n",
        "GIVEN that I'm on any Screen of the application.\n",
        "WHEN I fill the created before as like other filters.\n",
        "\n",
        "AND click the Apply filters to get the filtered value from the backend.\n",
        "\n",
        "THEN the application will display the data based on the applied filters. \n",
        "\n",
        "IF I close the application and Launch again. \n",
        "\n",
        "THEN the recently chosen filters including created before will be applied automatically from the local storage.\n",
        "\n",
        "THEN display the corresponding last access page. \n",
        "\n",
        "'''\n",
        "\n",
        "\n",
        "\n",
        "\n",
        "from pipelines import pipeline\n",
        "nlp = pipeline(\"question-generation\")\n",
        "\n",
        "\n",
        "nlp(text3)\n",
        "print(nlp(text3))\n",
        "def split(word):\n",
        "    return [char for char in word]\n",
        "\n",
        "# Driver code\n",
        "word = nlp(text3)\n",
        "word1 = split(word)\n",
        "#returns only values\n",
        "\n",
        "values = []\n",
        "for dictionary in word1:\n",
        "     values.extend([v for k, v in dictionary.items() if k == 'answer'])\n",
        "print(values)\n",
        "\n",
        "values1 = []\n",
        "for dictionary in word1:\n",
        "     values1.extend([v for k, v in dictionary.items() if k == 'question'])\n",
        "     \n",
        "stopwords = set(stopwords.words('english'))\n",
        "#print(stopwords)\n",
        "new_strings = [w for w in values1 if not w.lower() in stopwords]\n",
        "new_strings = []\n",
        "for string in values1:\n",
        "  #for w in word_tokens:\n",
        "    if string not in stopwords:\n",
        "        #new_strings.append(string)\n",
        "     new_string = string.replace(\"What\", \"Check if\")\n",
        "     new_strings.append(new_string)\n",
        "print(new_strings)\n",
        "\n",
        "\n",
        "\n"
      ],
      "execution_count": null,
      "outputs": [
        {
          "output_type": "stream",
          "text": [
            "/usr/lib/python3.7/runpy.py:125: RuntimeWarning: 'nltk.downloader' found in sys.modules after import of package 'nltk', but prior to execution of 'nltk.downloader'; this may result in unpredictable behaviour\n",
            "  warn(RuntimeWarning(msg))\n",
            "[nltk_data] Downloading package punkt to /root/nltk_data...\n",
            "[nltk_data]   Package punkt is already up-to-date!\n",
            "Cloning into 'question_generation'...\n",
            "remote: Enumerating objects: 265, done.\u001b[K\n",
            "remote: Counting objects: 100% (109/109), done.\u001b[K\n",
            "remote: Compressing objects: 100% (14/14), done.\u001b[K\n",
            "remote: Total 265 (delta 100), reused 95 (delta 95), pack-reused 156\u001b[K\n",
            "Receiving objects: 100% (265/265), 289.06 KiB | 3.80 MiB/s, done.\n",
            "Resolving deltas: 100% (146/146), done.\n",
            "/content/question_generation/question_generation/question_generation/question_generation/question_generation/question_generation/question_generation/question_generation/question_generation/question_generation/question_generation/question_generation/question_generation/question_generation/question_generation/question_generation/question_generation/question_generation/question_generation/question_generation/question_generation/question_generation/question_generation/question_generation/question_generation/question_generation/question_generation/question_generation/question_generation/question_generation/question_generation/question_generation/question_generation/question_generation/question_generation/question_generation/question_generation/question_generation/question_generation/question_generation/question_generation/question_generation/question_generation/question_generation/question_generation/question_generation/question_generation/question_generation/question_generation/question_generation/question_generation/question_generation/question_generation/question_generation/question_generation/question_generation/question_generation/question_generation/question_generation/question_generation/question_generation/question_generation/question_generation/question_generation/question_generation\n",
            "[nltk_data] Downloading package stopwords to /root/nltk_data...\n",
            "[nltk_data]   Package stopwords is already up-to-date!\n",
            "[{'answer': \"I'm on any Screen of the application\", 'question': 'What do I do when I fill the created before as like other filters?'}, {'answer': 'the application will display the data based on the applied filters', 'question': 'What will the application display the data based on?'}, {'answer': 'Launch again', 'question': 'What happens if I close the application?'}, {'answer': 'the recently chosen filters including created before will be applied automatically from the local storage', 'question': 'What will be applied automatically from the local storage?'}, {'answer': 'last access', 'question': 'What page does the application display?'}]\n",
            "[\"I'm on any Screen of the application\", 'the application will display the data based on the applied filters', 'Launch again', 'the recently chosen filters including created before will be applied automatically from the local storage', 'last access']\n",
            "['Check if do I do when I fill the created before as like other filters?', 'Check if will the application display the data based on?', 'Check if happens if I close the application?', 'Check if will be applied automatically from the local storage?', 'Check if page does the application display?']\n"
          ],
          "name": "stdout"
        }
      ]
    }
  ]
}